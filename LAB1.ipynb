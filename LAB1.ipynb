{
 "cells": [
  {
   "cell_type": "code",
   "execution_count": 13,
   "metadata": {},
   "outputs": [
    {
     "name": "stdout",
     "output_type": "stream",
     "text": [
      "Shakespeare didn't gave the best theatres to the world \n"
     ]
    }
   ],
   "source": [
    "#Printing the string using double quotes\n",
    "a=\"Shakespeare didn't gave the best theatres to the world \"\n",
    "print(a)\n"
   ]
  },
  {
   "cell_type": "code",
   "execution_count": 2,
   "metadata": {},
   "outputs": [
    {
     "name": "stdout",
     "output_type": "stream",
     "text": [
      "<class 'str'>\n"
     ]
    }
   ],
   "source": [
    "#Finding the datatype\n",
    "print(type(a))\n",
    "    "
   ]
  },
  {
   "cell_type": "code",
   "execution_count": 1,
   "metadata": {},
   "outputs": [
    {
     "name": "stdout",
     "output_type": "stream",
     "text": [
      "William Shakespeare (bapt. 26 April 1564 – 23 April 1616)[a] was an English poet, playwright, and actor, widely regarded as the greatest writer in the English language and the world's greatest dramatist.[2][3][4] He is often called England's national poet and the Bard of Avon (or simply the Bard).[5][b] \n",
      "His extant works, including collaborations, consist of some 39 plays,[c] 154 sonnets, two long narrative poems, and a few other verses, some of uncertain authorship. His plays have been translated into every major living language and are performed more often than those of any other playwright\n"
     ]
    }
   ],
   "source": [
    "#printing multiple lines using triple double quotes\n",
    "c=\"\"\"William Shakespeare (bapt. 26 April 1564 – 23 April 1616)[a] was an English poet, playwright, and actor, widely regarded as the greatest writer in the English language and the world's greatest dramatist.[2][3][4] He is often called England's national poet and the Bard of Avon (or simply the Bard).[5][b] \n",
    "His extant works, including collaborations, consist of some 39 plays,[c] 154 sonnets, two long narrative poems, and a few other verses, some of uncertain authorship. His plays have been translated into every major living language and are performed more often than those of any other playwright\"\"\"\n",
    "print(c)"
   ]
  },
  {
   "cell_type": "code",
   "execution_count": 12,
   "metadata": {},
   "outputs": [
    {
     "ename": "SyntaxError",
     "evalue": "invalid syntax (<ipython-input-12-29302d96b9f9>, line 1)",
     "output_type": "error",
     "traceback": [
      "\u001b[1;36m  File \u001b[1;32m\"<ipython-input-12-29302d96b9f9>\"\u001b[1;36m, line \u001b[1;32m1\u001b[0m\n\u001b[1;33m    b='Shakespeare didn't give the best theatres to the world'\u001b[0m\n\u001b[1;37m                        ^\u001b[0m\n\u001b[1;31mSyntaxError\u001b[0m\u001b[1;31m:\u001b[0m invalid syntax\n"
     ]
    }
   ],
   "source": [
    "#Cannot print a  sentence using single quotes when there is apostrophe is including in it \n",
    "b='Shakespeare didn't give the best theatres to the world'\n",
    "print(b)"
   ]
  },
  {
   "cell_type": "code",
   "execution_count": 14,
   "metadata": {},
   "outputs": [
    {
     "name": "stdout",
     "output_type": "stream",
     "text": [
      "Shakespeare didn't give the best theatres to the world \n"
     ]
    }
   ],
   "source": [
    "#Hence using Triple quotes to avoid such terminations like in the above cell\n",
    "c='''Shakespeare didn't give the best theatres to the world '''\n",
    "print(c)"
   ]
  },
  {
   "cell_type": "code",
   "execution_count": 15,
   "metadata": {},
   "outputs": [
    {
     "name": "stdout",
     "output_type": "stream",
     "text": [
      "Milan,Paris,London,Manchester,Moscow,Glasgow,Berlin, Edinburgh,Rome,Amsterdam\n"
     ]
    }
   ],
   "source": [
    "#Printing a string: A string is a sequence of characters. It can be declared in python by using double quotes\n",
    "d=\"Milan,Paris,London,Manchester,Moscow,Glasgow,Berlin, Edinburgh,Rome,Amsterdam\"\n",
    "print(d)"
   ]
  },
  {
   "cell_type": "code",
   "execution_count": 21,
   "metadata": {},
   "outputs": [
    {
     "name": "stdout",
     "output_type": "stream",
     "text": [
      "['Milan', 'Paris', 'London', 'Manchester', 'Moscow', 'Glasgow', 'Berlin', 'Edinburgh', 'Rome', 'Amsterdam']\n",
      "Manchester\n",
      "['Milan', 'Paris', 'London', 'Manchester', 'Moscow', 'Glasgow', 'Berlin', 'Edinburgh', 'Rome', 'Amsterdam', 'Tuscany']\n",
      "('Milan', 'Paris', 'London', 'Manchester', 'Moscow', 'Glasgow', 'Berlin', 'Edinburgh', 'Rome', 'Amsterdam')\n"
     ]
    }
   ],
   "source": [
    "#Creating a list\n",
    "#list can contain strings, integers, as well as objects.\n",
    "d=['Milan','Paris','London','Manchester','Moscow','Glasgow','Berlin', 'Edinburgh','Rome','Amsterdam']\n",
    "print(d)\n",
    "print(d[3])\n",
    "#Appending a list\n",
    "d.append('Tuscany')\n",
    "print(d)\n",
    "\n",
    "#Tuples are just like lists with the exception that tuples cannot be changed once declared. \n",
    "d=('Milan','Paris','London','Manchester','Moscow','Glasgow','Berlin', 'Edinburgh','Rome','Amsterdam')\n",
    "print(d)"
   ]
  },
  {
   "cell_type": "code",
   "execution_count": 27,
   "metadata": {},
   "outputs": [
    {
     "name": "stdout",
     "output_type": "stream",
     "text": [
      "{'Crick': 'Virat', 'cric': 'Rohit', 'cricket': 'Dhoni', 'Cricket': 'Hardik'}\n",
      "{'Virat': 'Cricket', 'Rohit': 'Cricket', 'Dhoni': 'Cricket', 'Hardik': 'Cricket'}\n"
     ]
    }
   ],
   "source": [
    "#Creating a Dictionary\n",
    "Dict={\"Crick\":\"Virat\",\"cric\":\"Rohit\",\"cricket\":\"Dhoni\",\"Cricket\":\"Hardik\"}\n",
    "print(Dict)\n",
    "Dict1={\"Virat\":\"Cricket\",\"Rohit\":\"Cricket\",\"Dhoni\":\"Cricket\",\"Hardik\":\"Cricket\"}\n",
    "print(Dict1)"
   ]
  },
  {
   "cell_type": "code",
   "execution_count": null,
   "metadata": {},
   "outputs": [],
   "source": []
  }
 ],
 "metadata": {
  "kernelspec": {
   "display_name": "Python 3",
   "language": "python",
   "name": "python3"
  },
  "language_info": {
   "codemirror_mode": {
    "name": "ipython",
    "version": 3
   },
   "file_extension": ".py",
   "mimetype": "text/x-python",
   "name": "python",
   "nbconvert_exporter": "python",
   "pygments_lexer": "ipython3",
   "version": "3.7.3"
  }
 },
 "nbformat": 4,
 "nbformat_minor": 2
}
